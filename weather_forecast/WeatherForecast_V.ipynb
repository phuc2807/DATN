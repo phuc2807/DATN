{
 "cells": [
  {
   "cell_type": "code",
   "execution_count": null,
   "metadata": {
    "colab": {
     "base_uri": "https://localhost:8080/",
     "height": 206
    },
    "executionInfo": {
     "elapsed": 330,
     "status": "ok",
     "timestamp": 1750514077845,
     "user": {
      "displayName": "Phúc Phạm Hoàng",
      "userId": "00710290091674730627"
     },
     "user_tz": -420
    },
    "id": "mfeOqw-SjYnG",
    "outputId": "0a534939-9e17-4337-b444-9deb95571057"
   },
   "outputs": [
    {
     "data": {
      "application/vnd.google.colaboratory.intrinsic+json": {
       "summary": "{\n  \"name\": \"display(data_max\",\n  \"rows\": 5,\n  \"fields\": [\n    {\n      \"column\": \"FutureMaxTemp\",\n      \"properties\": {\n        \"dtype\": \"number\",\n        \"std\": 1.498753153444823,\n        \"min\": 26.577663,\n        \"max\": 30.336853,\n        \"num_unique_values\": 5,\n        \"samples\": [\n          26.577663,\n          28.040773,\n          26.813253\n        ],\n        \"semantic_type\": \"\",\n        \"description\": \"\"\n      }\n    }\n  ]\n}",
       "type": "dataframe"
      },
      "text/html": [
       "\n",
       "  <div id=\"df-b76f4db1-f39e-4440-895f-8b27ef0c842a\" class=\"colab-df-container\">\n",
       "    <div>\n",
       "<style scoped>\n",
       "    .dataframe tbody tr th:only-of-type {\n",
       "        vertical-align: middle;\n",
       "    }\n",
       "\n",
       "    .dataframe tbody tr th {\n",
       "        vertical-align: top;\n",
       "    }\n",
       "\n",
       "    .dataframe thead th {\n",
       "        text-align: right;\n",
       "    }\n",
       "</style>\n",
       "<table border=\"1\" class=\"dataframe\">\n",
       "  <thead>\n",
       "    <tr style=\"text-align: right;\">\n",
       "      <th></th>\n",
       "      <th>FutureMaxTemp</th>\n",
       "    </tr>\n",
       "  </thead>\n",
       "  <tbody>\n",
       "    <tr>\n",
       "      <th>0</th>\n",
       "      <td>30.336853</td>\n",
       "    </tr>\n",
       "    <tr>\n",
       "      <th>1</th>\n",
       "      <td>26.577663</td>\n",
       "    </tr>\n",
       "    <tr>\n",
       "      <th>2</th>\n",
       "      <td>26.813253</td>\n",
       "    </tr>\n",
       "    <tr>\n",
       "      <th>3</th>\n",
       "      <td>27.580746</td>\n",
       "    </tr>\n",
       "    <tr>\n",
       "      <th>4</th>\n",
       "      <td>28.040773</td>\n",
       "    </tr>\n",
       "  </tbody>\n",
       "</table>\n",
       "</div>\n",
       "    <div class=\"colab-df-buttons\">\n",
       "\n",
       "  <div class=\"colab-df-container\">\n",
       "    <button class=\"colab-df-convert\" onclick=\"convertToInteractive('df-b76f4db1-f39e-4440-895f-8b27ef0c842a')\"\n",
       "            title=\"Convert this dataframe to an interactive table.\"\n",
       "            style=\"display:none;\">\n",
       "\n",
       "  <svg xmlns=\"http://www.w3.org/2000/svg\" height=\"24px\" viewBox=\"0 -960 960 960\">\n",
       "    <path d=\"M120-120v-720h720v720H120Zm60-500h600v-160H180v160Zm220 220h160v-160H400v160Zm0 220h160v-160H400v160ZM180-400h160v-160H180v160Zm440 0h160v-160H620v160ZM180-180h160v-160H180v160Zm440 0h160v-160H620v160Z\"/>\n",
       "  </svg>\n",
       "    </button>\n",
       "\n",
       "  <style>\n",
       "    .colab-df-container {\n",
       "      display:flex;\n",
       "      gap: 12px;\n",
       "    }\n",
       "\n",
       "    .colab-df-convert {\n",
       "      background-color: #E8F0FE;\n",
       "      border: none;\n",
       "      border-radius: 50%;\n",
       "      cursor: pointer;\n",
       "      display: none;\n",
       "      fill: #1967D2;\n",
       "      height: 32px;\n",
       "      padding: 0 0 0 0;\n",
       "      width: 32px;\n",
       "    }\n",
       "\n",
       "    .colab-df-convert:hover {\n",
       "      background-color: #E2EBFA;\n",
       "      box-shadow: 0px 1px 2px rgba(60, 64, 67, 0.3), 0px 1px 3px 1px rgba(60, 64, 67, 0.15);\n",
       "      fill: #174EA6;\n",
       "    }\n",
       "\n",
       "    .colab-df-buttons div {\n",
       "      margin-bottom: 4px;\n",
       "    }\n",
       "\n",
       "    [theme=dark] .colab-df-convert {\n",
       "      background-color: #3B4455;\n",
       "      fill: #D2E3FC;\n",
       "    }\n",
       "\n",
       "    [theme=dark] .colab-df-convert:hover {\n",
       "      background-color: #434B5C;\n",
       "      box-shadow: 0px 1px 3px 1px rgba(0, 0, 0, 0.15);\n",
       "      filter: drop-shadow(0px 1px 2px rgba(0, 0, 0, 0.3));\n",
       "      fill: #FFFFFF;\n",
       "    }\n",
       "  </style>\n",
       "\n",
       "    <script>\n",
       "      const buttonEl =\n",
       "        document.querySelector('#df-b76f4db1-f39e-4440-895f-8b27ef0c842a button.colab-df-convert');\n",
       "      buttonEl.style.display =\n",
       "        google.colab.kernel.accessAllowed ? 'block' : 'none';\n",
       "\n",
       "      async function convertToInteractive(key) {\n",
       "        const element = document.querySelector('#df-b76f4db1-f39e-4440-895f-8b27ef0c842a');\n",
       "        const dataTable =\n",
       "          await google.colab.kernel.invokeFunction('convertToInteractive',\n",
       "                                                    [key], {});\n",
       "        if (!dataTable) return;\n",
       "\n",
       "        const docLinkHtml = 'Like what you see? Visit the ' +\n",
       "          '<a target=\"_blank\" href=https://colab.research.google.com/notebooks/data_table.ipynb>data table notebook</a>'\n",
       "          + ' to learn more about interactive tables.';\n",
       "        element.innerHTML = '';\n",
       "        dataTable['output_type'] = 'display_data';\n",
       "        await google.colab.output.renderOutput(dataTable, element);\n",
       "        const docLink = document.createElement('div');\n",
       "        docLink.innerHTML = docLinkHtml;\n",
       "        element.appendChild(docLink);\n",
       "      }\n",
       "    </script>\n",
       "  </div>\n",
       "\n",
       "\n",
       "    <div id=\"df-a0ec677e-2283-4afa-a903-1f2b0d44b6e7\">\n",
       "      <button class=\"colab-df-quickchart\" onclick=\"quickchart('df-a0ec677e-2283-4afa-a903-1f2b0d44b6e7')\"\n",
       "                title=\"Suggest charts\"\n",
       "                style=\"display:none;\">\n",
       "\n",
       "<svg xmlns=\"http://www.w3.org/2000/svg\" height=\"24px\"viewBox=\"0 0 24 24\"\n",
       "     width=\"24px\">\n",
       "    <g>\n",
       "        <path d=\"M19 3H5c-1.1 0-2 .9-2 2v14c0 1.1.9 2 2 2h14c1.1 0 2-.9 2-2V5c0-1.1-.9-2-2-2zM9 17H7v-7h2v7zm4 0h-2V7h2v10zm4 0h-2v-4h2v4z\"/>\n",
       "    </g>\n",
       "</svg>\n",
       "      </button>\n",
       "\n",
       "<style>\n",
       "  .colab-df-quickchart {\n",
       "      --bg-color: #E8F0FE;\n",
       "      --fill-color: #1967D2;\n",
       "      --hover-bg-color: #E2EBFA;\n",
       "      --hover-fill-color: #174EA6;\n",
       "      --disabled-fill-color: #AAA;\n",
       "      --disabled-bg-color: #DDD;\n",
       "  }\n",
       "\n",
       "  [theme=dark] .colab-df-quickchart {\n",
       "      --bg-color: #3B4455;\n",
       "      --fill-color: #D2E3FC;\n",
       "      --hover-bg-color: #434B5C;\n",
       "      --hover-fill-color: #FFFFFF;\n",
       "      --disabled-bg-color: #3B4455;\n",
       "      --disabled-fill-color: #666;\n",
       "  }\n",
       "\n",
       "  .colab-df-quickchart {\n",
       "    background-color: var(--bg-color);\n",
       "    border: none;\n",
       "    border-radius: 50%;\n",
       "    cursor: pointer;\n",
       "    display: none;\n",
       "    fill: var(--fill-color);\n",
       "    height: 32px;\n",
       "    padding: 0;\n",
       "    width: 32px;\n",
       "  }\n",
       "\n",
       "  .colab-df-quickchart:hover {\n",
       "    background-color: var(--hover-bg-color);\n",
       "    box-shadow: 0 1px 2px rgba(60, 64, 67, 0.3), 0 1px 3px 1px rgba(60, 64, 67, 0.15);\n",
       "    fill: var(--button-hover-fill-color);\n",
       "  }\n",
       "\n",
       "  .colab-df-quickchart-complete:disabled,\n",
       "  .colab-df-quickchart-complete:disabled:hover {\n",
       "    background-color: var(--disabled-bg-color);\n",
       "    fill: var(--disabled-fill-color);\n",
       "    box-shadow: none;\n",
       "  }\n",
       "\n",
       "  .colab-df-spinner {\n",
       "    border: 2px solid var(--fill-color);\n",
       "    border-color: transparent;\n",
       "    border-bottom-color: var(--fill-color);\n",
       "    animation:\n",
       "      spin 1s steps(1) infinite;\n",
       "  }\n",
       "\n",
       "  @keyframes spin {\n",
       "    0% {\n",
       "      border-color: transparent;\n",
       "      border-bottom-color: var(--fill-color);\n",
       "      border-left-color: var(--fill-color);\n",
       "    }\n",
       "    20% {\n",
       "      border-color: transparent;\n",
       "      border-left-color: var(--fill-color);\n",
       "      border-top-color: var(--fill-color);\n",
       "    }\n",
       "    30% {\n",
       "      border-color: transparent;\n",
       "      border-left-color: var(--fill-color);\n",
       "      border-top-color: var(--fill-color);\n",
       "      border-right-color: var(--fill-color);\n",
       "    }\n",
       "    40% {\n",
       "      border-color: transparent;\n",
       "      border-right-color: var(--fill-color);\n",
       "      border-top-color: var(--fill-color);\n",
       "    }\n",
       "    60% {\n",
       "      border-color: transparent;\n",
       "      border-right-color: var(--fill-color);\n",
       "    }\n",
       "    80% {\n",
       "      border-color: transparent;\n",
       "      border-right-color: var(--fill-color);\n",
       "      border-bottom-color: var(--fill-color);\n",
       "    }\n",
       "    90% {\n",
       "      border-color: transparent;\n",
       "      border-bottom-color: var(--fill-color);\n",
       "    }\n",
       "  }\n",
       "</style>\n",
       "\n",
       "      <script>\n",
       "        async function quickchart(key) {\n",
       "          const quickchartButtonEl =\n",
       "            document.querySelector('#' + key + ' button');\n",
       "          quickchartButtonEl.disabled = true;  // To prevent multiple clicks.\n",
       "          quickchartButtonEl.classList.add('colab-df-spinner');\n",
       "          try {\n",
       "            const charts = await google.colab.kernel.invokeFunction(\n",
       "                'suggestCharts', [key], {});\n",
       "          } catch (error) {\n",
       "            console.error('Error during call to suggestCharts:', error);\n",
       "          }\n",
       "          quickchartButtonEl.classList.remove('colab-df-spinner');\n",
       "          quickchartButtonEl.classList.add('colab-df-quickchart-complete');\n",
       "        }\n",
       "        (() => {\n",
       "          let quickchartButtonEl =\n",
       "            document.querySelector('#df-a0ec677e-2283-4afa-a903-1f2b0d44b6e7 button');\n",
       "          quickchartButtonEl.style.display =\n",
       "            google.colab.kernel.accessAllowed ? 'block' : 'none';\n",
       "        })();\n",
       "      </script>\n",
       "    </div>\n",
       "\n",
       "    </div>\n",
       "  </div>\n"
      ],
      "text/plain": [
       "   FutureMaxTemp\n",
       "0      30.336853\n",
       "1      26.577663\n",
       "2      26.813253\n",
       "3      27.580746\n",
       "4      28.040773"
      ]
     },
     "metadata": {},
     "output_type": "display_data"
    }
   ],
   "source": [
    "from IPython.display import display\n",
    "import pandas as pd\n",
    "data_max = pd.read_csv('/data/predict/FutureMaxtemp_V.csv')\n",
    "display(data_max.head(5))"
   ]
  },
  {
   "cell_type": "code",
   "execution_count": null,
   "metadata": {
    "colab": {
     "base_uri": "https://localhost:8080/",
     "height": 206
    },
    "executionInfo": {
     "elapsed": 2,
     "status": "ok",
     "timestamp": 1750514077849,
     "user": {
      "displayName": "Phúc Phạm Hoàng",
      "userId": "00710290091674730627"
     },
     "user_tz": -420
    },
    "id": "YERTp4S6jpTz",
    "outputId": "98041d18-fa68-4b73-cfcd-e88b7dc8a073"
   },
   "outputs": [
    {
     "data": {
      "application/vnd.google.colaboratory.intrinsic+json": {
       "summary": "{\n  \"name\": \"display(data_min\",\n  \"rows\": 5,\n  \"fields\": [\n    {\n      \"column\": \"FutureMinTemp\",\n      \"properties\": {\n        \"dtype\": \"number\",\n        \"std\": 0.1477994294315783,\n        \"min\": 24.674469,\n        \"max\": 25.082441,\n        \"num_unique_values\": 5,\n        \"samples\": [\n          24.90412,\n          24.674469,\n          24.957413\n        ],\n        \"semantic_type\": \"\",\n        \"description\": \"\"\n      }\n    }\n  ]\n}",
       "type": "dataframe"
      },
      "text/html": [
       "\n",
       "  <div id=\"df-60a2fd41-bf01-4411-bc15-219afa591651\" class=\"colab-df-container\">\n",
       "    <div>\n",
       "<style scoped>\n",
       "    .dataframe tbody tr th:only-of-type {\n",
       "        vertical-align: middle;\n",
       "    }\n",
       "\n",
       "    .dataframe tbody tr th {\n",
       "        vertical-align: top;\n",
       "    }\n",
       "\n",
       "    .dataframe thead th {\n",
       "        text-align: right;\n",
       "    }\n",
       "</style>\n",
       "<table border=\"1\" class=\"dataframe\">\n",
       "  <thead>\n",
       "    <tr style=\"text-align: right;\">\n",
       "      <th></th>\n",
       "      <th>FutureMinTemp</th>\n",
       "    </tr>\n",
       "  </thead>\n",
       "  <tbody>\n",
       "    <tr>\n",
       "      <th>0</th>\n",
       "      <td>25.082441</td>\n",
       "    </tr>\n",
       "    <tr>\n",
       "      <th>1</th>\n",
       "      <td>24.904120</td>\n",
       "    </tr>\n",
       "    <tr>\n",
       "      <th>2</th>\n",
       "      <td>24.957413</td>\n",
       "    </tr>\n",
       "    <tr>\n",
       "      <th>3</th>\n",
       "      <td>24.906000</td>\n",
       "    </tr>\n",
       "    <tr>\n",
       "      <th>4</th>\n",
       "      <td>24.674469</td>\n",
       "    </tr>\n",
       "  </tbody>\n",
       "</table>\n",
       "</div>\n",
       "    <div class=\"colab-df-buttons\">\n",
       "\n",
       "  <div class=\"colab-df-container\">\n",
       "    <button class=\"colab-df-convert\" onclick=\"convertToInteractive('df-60a2fd41-bf01-4411-bc15-219afa591651')\"\n",
       "            title=\"Convert this dataframe to an interactive table.\"\n",
       "            style=\"display:none;\">\n",
       "\n",
       "  <svg xmlns=\"http://www.w3.org/2000/svg\" height=\"24px\" viewBox=\"0 -960 960 960\">\n",
       "    <path d=\"M120-120v-720h720v720H120Zm60-500h600v-160H180v160Zm220 220h160v-160H400v160Zm0 220h160v-160H400v160ZM180-400h160v-160H180v160Zm440 0h160v-160H620v160ZM180-180h160v-160H180v160Zm440 0h160v-160H620v160Z\"/>\n",
       "  </svg>\n",
       "    </button>\n",
       "\n",
       "  <style>\n",
       "    .colab-df-container {\n",
       "      display:flex;\n",
       "      gap: 12px;\n",
       "    }\n",
       "\n",
       "    .colab-df-convert {\n",
       "      background-color: #E8F0FE;\n",
       "      border: none;\n",
       "      border-radius: 50%;\n",
       "      cursor: pointer;\n",
       "      display: none;\n",
       "      fill: #1967D2;\n",
       "      height: 32px;\n",
       "      padding: 0 0 0 0;\n",
       "      width: 32px;\n",
       "    }\n",
       "\n",
       "    .colab-df-convert:hover {\n",
       "      background-color: #E2EBFA;\n",
       "      box-shadow: 0px 1px 2px rgba(60, 64, 67, 0.3), 0px 1px 3px 1px rgba(60, 64, 67, 0.15);\n",
       "      fill: #174EA6;\n",
       "    }\n",
       "\n",
       "    .colab-df-buttons div {\n",
       "      margin-bottom: 4px;\n",
       "    }\n",
       "\n",
       "    [theme=dark] .colab-df-convert {\n",
       "      background-color: #3B4455;\n",
       "      fill: #D2E3FC;\n",
       "    }\n",
       "\n",
       "    [theme=dark] .colab-df-convert:hover {\n",
       "      background-color: #434B5C;\n",
       "      box-shadow: 0px 1px 3px 1px rgba(0, 0, 0, 0.15);\n",
       "      filter: drop-shadow(0px 1px 2px rgba(0, 0, 0, 0.3));\n",
       "      fill: #FFFFFF;\n",
       "    }\n",
       "  </style>\n",
       "\n",
       "    <script>\n",
       "      const buttonEl =\n",
       "        document.querySelector('#df-60a2fd41-bf01-4411-bc15-219afa591651 button.colab-df-convert');\n",
       "      buttonEl.style.display =\n",
       "        google.colab.kernel.accessAllowed ? 'block' : 'none';\n",
       "\n",
       "      async function convertToInteractive(key) {\n",
       "        const element = document.querySelector('#df-60a2fd41-bf01-4411-bc15-219afa591651');\n",
       "        const dataTable =\n",
       "          await google.colab.kernel.invokeFunction('convertToInteractive',\n",
       "                                                    [key], {});\n",
       "        if (!dataTable) return;\n",
       "\n",
       "        const docLinkHtml = 'Like what you see? Visit the ' +\n",
       "          '<a target=\"_blank\" href=https://colab.research.google.com/notebooks/data_table.ipynb>data table notebook</a>'\n",
       "          + ' to learn more about interactive tables.';\n",
       "        element.innerHTML = '';\n",
       "        dataTable['output_type'] = 'display_data';\n",
       "        await google.colab.output.renderOutput(dataTable, element);\n",
       "        const docLink = document.createElement('div');\n",
       "        docLink.innerHTML = docLinkHtml;\n",
       "        element.appendChild(docLink);\n",
       "      }\n",
       "    </script>\n",
       "  </div>\n",
       "\n",
       "\n",
       "    <div id=\"df-5b49046e-a648-4e58-93a7-1f0cc1827e79\">\n",
       "      <button class=\"colab-df-quickchart\" onclick=\"quickchart('df-5b49046e-a648-4e58-93a7-1f0cc1827e79')\"\n",
       "                title=\"Suggest charts\"\n",
       "                style=\"display:none;\">\n",
       "\n",
       "<svg xmlns=\"http://www.w3.org/2000/svg\" height=\"24px\"viewBox=\"0 0 24 24\"\n",
       "     width=\"24px\">\n",
       "    <g>\n",
       "        <path d=\"M19 3H5c-1.1 0-2 .9-2 2v14c0 1.1.9 2 2 2h14c1.1 0 2-.9 2-2V5c0-1.1-.9-2-2-2zM9 17H7v-7h2v7zm4 0h-2V7h2v10zm4 0h-2v-4h2v4z\"/>\n",
       "    </g>\n",
       "</svg>\n",
       "      </button>\n",
       "\n",
       "<style>\n",
       "  .colab-df-quickchart {\n",
       "      --bg-color: #E8F0FE;\n",
       "      --fill-color: #1967D2;\n",
       "      --hover-bg-color: #E2EBFA;\n",
       "      --hover-fill-color: #174EA6;\n",
       "      --disabled-fill-color: #AAA;\n",
       "      --disabled-bg-color: #DDD;\n",
       "  }\n",
       "\n",
       "  [theme=dark] .colab-df-quickchart {\n",
       "      --bg-color: #3B4455;\n",
       "      --fill-color: #D2E3FC;\n",
       "      --hover-bg-color: #434B5C;\n",
       "      --hover-fill-color: #FFFFFF;\n",
       "      --disabled-bg-color: #3B4455;\n",
       "      --disabled-fill-color: #666;\n",
       "  }\n",
       "\n",
       "  .colab-df-quickchart {\n",
       "    background-color: var(--bg-color);\n",
       "    border: none;\n",
       "    border-radius: 50%;\n",
       "    cursor: pointer;\n",
       "    display: none;\n",
       "    fill: var(--fill-color);\n",
       "    height: 32px;\n",
       "    padding: 0;\n",
       "    width: 32px;\n",
       "  }\n",
       "\n",
       "  .colab-df-quickchart:hover {\n",
       "    background-color: var(--hover-bg-color);\n",
       "    box-shadow: 0 1px 2px rgba(60, 64, 67, 0.3), 0 1px 3px 1px rgba(60, 64, 67, 0.15);\n",
       "    fill: var(--button-hover-fill-color);\n",
       "  }\n",
       "\n",
       "  .colab-df-quickchart-complete:disabled,\n",
       "  .colab-df-quickchart-complete:disabled:hover {\n",
       "    background-color: var(--disabled-bg-color);\n",
       "    fill: var(--disabled-fill-color);\n",
       "    box-shadow: none;\n",
       "  }\n",
       "\n",
       "  .colab-df-spinner {\n",
       "    border: 2px solid var(--fill-color);\n",
       "    border-color: transparent;\n",
       "    border-bottom-color: var(--fill-color);\n",
       "    animation:\n",
       "      spin 1s steps(1) infinite;\n",
       "  }\n",
       "\n",
       "  @keyframes spin {\n",
       "    0% {\n",
       "      border-color: transparent;\n",
       "      border-bottom-color: var(--fill-color);\n",
       "      border-left-color: var(--fill-color);\n",
       "    }\n",
       "    20% {\n",
       "      border-color: transparent;\n",
       "      border-left-color: var(--fill-color);\n",
       "      border-top-color: var(--fill-color);\n",
       "    }\n",
       "    30% {\n",
       "      border-color: transparent;\n",
       "      border-left-color: var(--fill-color);\n",
       "      border-top-color: var(--fill-color);\n",
       "      border-right-color: var(--fill-color);\n",
       "    }\n",
       "    40% {\n",
       "      border-color: transparent;\n",
       "      border-right-color: var(--fill-color);\n",
       "      border-top-color: var(--fill-color);\n",
       "    }\n",
       "    60% {\n",
       "      border-color: transparent;\n",
       "      border-right-color: var(--fill-color);\n",
       "    }\n",
       "    80% {\n",
       "      border-color: transparent;\n",
       "      border-right-color: var(--fill-color);\n",
       "      border-bottom-color: var(--fill-color);\n",
       "    }\n",
       "    90% {\n",
       "      border-color: transparent;\n",
       "      border-bottom-color: var(--fill-color);\n",
       "    }\n",
       "  }\n",
       "</style>\n",
       "\n",
       "      <script>\n",
       "        async function quickchart(key) {\n",
       "          const quickchartButtonEl =\n",
       "            document.querySelector('#' + key + ' button');\n",
       "          quickchartButtonEl.disabled = true;  // To prevent multiple clicks.\n",
       "          quickchartButtonEl.classList.add('colab-df-spinner');\n",
       "          try {\n",
       "            const charts = await google.colab.kernel.invokeFunction(\n",
       "                'suggestCharts', [key], {});\n",
       "          } catch (error) {\n",
       "            console.error('Error during call to suggestCharts:', error);\n",
       "          }\n",
       "          quickchartButtonEl.classList.remove('colab-df-spinner');\n",
       "          quickchartButtonEl.classList.add('colab-df-quickchart-complete');\n",
       "        }\n",
       "        (() => {\n",
       "          let quickchartButtonEl =\n",
       "            document.querySelector('#df-5b49046e-a648-4e58-93a7-1f0cc1827e79 button');\n",
       "          quickchartButtonEl.style.display =\n",
       "            google.colab.kernel.accessAllowed ? 'block' : 'none';\n",
       "        })();\n",
       "      </script>\n",
       "    </div>\n",
       "\n",
       "    </div>\n",
       "  </div>\n"
      ],
      "text/plain": [
       "   FutureMinTemp\n",
       "0      25.082441\n",
       "1      24.904120\n",
       "2      24.957413\n",
       "3      24.906000\n",
       "4      24.674469"
      ]
     },
     "metadata": {},
     "output_type": "display_data"
    }
   ],
   "source": [
    "data_min = pd.read_csv('/data/predict/FutureMintemp_V.csv')\n",
    "display(data_min.head(5))"
   ]
  },
  {
   "cell_type": "code",
   "execution_count": 28,
   "metadata": {
    "executionInfo": {
     "elapsed": 2,
     "status": "ok",
     "timestamp": 1750514077852,
     "user": {
      "displayName": "Phúc Phạm Hoàng",
      "userId": "00710290091674730627"
     },
     "user_tz": -420
    },
    "id": "6APDd4WIl2mv"
   },
   "outputs": [],
   "source": [
    "n = len(data_max)\n",
    "x_axis = range(n)"
   ]
  },
  {
   "cell_type": "code",
   "execution_count": 29,
   "metadata": {
    "colab": {
     "base_uri": "https://localhost:8080/",
     "height": 489
    },
    "executionInfo": {
     "elapsed": 257,
     "status": "ok",
     "timestamp": 1750514078110,
     "user": {
      "displayName": "Phúc Phạm Hoàng",
      "userId": "00710290091674730627"
     },
     "user_tz": -420
    },
    "id": "pVP-b7yUkFmI",
    "outputId": "dcb5302d-0181-439c-fd92-a3a414447a86"
   },
   "outputs": [
    {
     "data": {
      "image/png": "[encoded data removed]",
      "text/plain": [
       "<Figure size 900x500 with 1 Axes>"
      ]
     },
     "metadata": {},
     "output_type": "display_data"
    }
   ],
   "source": [
    "import matplotlib.pyplot as plt\n",
    "plt.figure(figsize=(9, 5))\n",
    "plt.plot(x_axis, data_max['FutureMaxTemp'], label='Nhiệt độ cao nhất dự đoán', marker='o')\n",
    "plt.plot(x_axis, data_min['FutureMinTemp'], label='Nhiệt độ thấp nhất dự đoán', marker='o')\n",
    "plt.title('So sánh dự báo nhiệt độ cao nhất và thấp nhất theo ngày')\n",
    "plt.xlabel('Ngày')\n",
    "plt.ylabel('Nhiệt độ (°C)')\n",
    "plt.legend()\n",
    "plt.show()"
   ]
  },
  {
   "cell_type": "code",
   "execution_count": 30,
   "metadata": {
    "executionInfo": {
     "elapsed": 2,
     "status": "ok",
     "timestamp": 1750514078113,
     "user": {
      "displayName": "Phúc Phạm Hoàng",
      "userId": "00710290091674730627"
     },
     "user_tz": -420
    },
    "id": "KlUYPJzyUHcN"
   },
   "outputs": [],
   "source": [
    "def gen_wf(max_temp, min_temp):\n",
    "    if max_temp >= 35:\n",
    "        temp_desc = \"trời nóng bức\"\n",
    "    elif 30 <= max_temp < 35:\n",
    "        temp_desc = \"trời nắng nóng\"\n",
    "    elif 25 <= max_temp < 30:\n",
    "        temp_desc = \"trời quang đãng\"\n",
    "    else:\n",
    "        temp_desc = \"trời dễ chịu\"\n",
    "\n",
    "    return (\n",
    "        f\"Hôm nay, {temp_desc}. \"\n",
    "        f\"Nhiệt độ cao nhất đạt {max_temp:.1f}°C và \"\n",
    "        f\"thấp nhất là {min_temp:.1f}°C. \"\n",
    "    )"
   ]
  },
  {
   "cell_type": "code",
   "execution_count": 31,
   "metadata": {
    "executionInfo": {
     "elapsed": 2,
     "status": "ok",
     "timestamp": 1750514078132,
     "user": {
      "displayName": "Phúc Phạm Hoàng",
      "userId": "00710290091674730627"
     },
     "user_tz": -420
    },
    "id": "omI6cTpUVNqg"
   },
   "outputs": [],
   "source": [
    "df_forecast = pd.DataFrame({\n",
    "    'max_temp': data_max['FutureMaxTemp'],\n",
    "    'min_temp': data_min['FutureMinTemp'],\n",
    "})\n",
    "\n",
    "df_forecast['description'] = df_forecast.apply(\n",
    "    lambda row: gen_wf(row['max_temp'], row['min_temp']),\n",
    "    axis=1\n",
    ")"
   ]
  },
  {
   "cell_type": "code",
   "execution_count": 32,
   "metadata": {
    "colab": {
     "base_uri": "https://localhost:8080/",
     "height": 1000
    },
    "executionInfo": {
     "elapsed": 103,
     "status": "ok",
     "timestamp": 1750514078238,
     "user": {
      "displayName": "Phúc Phạm Hoàng",
      "userId": "00710290091674730627"
     },
     "user_tz": -420
    },
    "id": "zmcGk1hMV18j",
    "outputId": "98a94e08-feb7-473b-c4c9-0ee3e1d40d80"
   },
   "outputs": [
    {
     "data": {
      "text/markdown": [
       "### Ngày 1\n",
       "- 🔥 Nhiệt độ cao nhất: **30.336853°C**\n",
       "- 🧊 Nhiệt độ thấp nhất: **25.082441°C**\n",
       "> **📢 Dự báo:** Hôm nay, trời nắng nóng. Nhiệt độ cao nhất đạt 30.3°C và thấp nhất là 25.1°C. "
      ],
      "text/plain": [
       "<IPython.core.display.Markdown object>"
      ]
     },
     "metadata": {},
     "output_type": "display_data"
    },
    {
     "data": {
      "text/markdown": [
       "### Ngày 2\n",
       "- 🔥 Nhiệt độ cao nhất: **26.577663°C**\n",
       "- 🧊 Nhiệt độ thấp nhất: **24.90412°C**\n",
       "> **📢 Dự báo:** Hôm nay, trời quang đãng. Nhiệt độ cao nhất đạt 26.6°C và thấp nhất là 24.9°C. "
      ],
      "text/plain": [
       "<IPython.core.display.Markdown object>"
      ]
     },
     "metadata": {},
     "output_type": "display_data"
    },
    {
     "data": {
      "text/markdown": [
       "### Ngày 3\n",
       "- 🔥 Nhiệt độ cao nhất: **26.813253°C**\n",
       "- 🧊 Nhiệt độ thấp nhất: **24.957413°C**\n",
       "> **📢 Dự báo:** Hôm nay, trời quang đãng. Nhiệt độ cao nhất đạt 26.8°C và thấp nhất là 25.0°C. "
      ],
      "text/plain": [
       "<IPython.core.display.Markdown object>"
      ]
     },
     "metadata": {},
     "output_type": "display_data"
    },
    {
     "data": {
      "text/markdown": [
       "### Ngày 4\n",
       "- 🔥 Nhiệt độ cao nhất: **27.580746°C**\n",
       "- 🧊 Nhiệt độ thấp nhất: **24.906°C**\n",
       "> **📢 Dự báo:** Hôm nay, trời quang đãng. Nhiệt độ cao nhất đạt 27.6°C và thấp nhất là 24.9°C. "
      ],
      "text/plain": [
       "<IPython.core.display.Markdown object>"
      ]
     },
     "metadata": {},
     "output_type": "display_data"
    },
    {
     "data": {
      "text/markdown": [
       "### Ngày 5\n",
       "- 🔥 Nhiệt độ cao nhất: **28.040773°C**\n",
       "- 🧊 Nhiệt độ thấp nhất: **24.674469°C**\n",
       "> **📢 Dự báo:** Hôm nay, trời quang đãng. Nhiệt độ cao nhất đạt 28.0°C và thấp nhất là 24.7°C. "
      ],
      "text/plain": [
       "<IPython.core.display.Markdown object>"
      ]
     },
     "metadata": {},
     "output_type": "display_data"
    },
    {
     "data": {
      "text/markdown": [
       "### Ngày 6\n",
       "- 🔥 Nhiệt độ cao nhất: **28.371067°C**\n",
       "- 🧊 Nhiệt độ thấp nhất: **24.346874°C**\n",
       "> **📢 Dự báo:** Hôm nay, trời quang đãng. Nhiệt độ cao nhất đạt 28.4°C và thấp nhất là 24.3°C. "
      ],
      "text/plain": [
       "<IPython.core.display.Markdown object>"
      ]
     },
     "metadata": {},
     "output_type": "display_data"
    },
    {
     "data": {
      "text/markdown": [
       "### Ngày 7\n",
       "- 🔥 Nhiệt độ cao nhất: **28.714512°C**\n",
       "- 🧊 Nhiệt độ thấp nhất: **23.992033°C**\n",
       "> **📢 Dự báo:** Hôm nay, trời quang đãng. Nhiệt độ cao nhất đạt 28.7°C và thấp nhất là 24.0°C. "
      ],
      "text/plain": [
       "<IPython.core.display.Markdown object>"
      ]
     },
     "metadata": {},
     "output_type": "display_data"
    },
    {
     "data": {
      "text/markdown": [
       "### Ngày 8\n",
       "- 🔥 Nhiệt độ cao nhất: **29.120567°C**\n",
       "- 🧊 Nhiệt độ thấp nhất: **23.644735°C**\n",
       "> **📢 Dự báo:** Hôm nay, trời quang đãng. Nhiệt độ cao nhất đạt 29.1°C và thấp nhất là 23.6°C. "
      ],
      "text/plain": [
       "<IPython.core.display.Markdown object>"
      ]
     },
     "metadata": {},
     "output_type": "display_data"
    },
    {
     "data": {
      "text/markdown": [
       "### Ngày 9\n",
       "- 🔥 Nhiệt độ cao nhất: **29.611397°C**\n",
       "- 🧊 Nhiệt độ thấp nhất: **23.37651°C**\n",
       "> **📢 Dự báo:** Hôm nay, trời quang đãng. Nhiệt độ cao nhất đạt 29.6°C và thấp nhất là 23.4°C. "
      ],
      "text/plain": [
       "<IPython.core.display.Markdown object>"
      ]
     },
     "metadata": {},
     "output_type": "display_data"
    },
    {
     "data": {
      "text/markdown": [
       "### Ngày 10\n",
       "- 🔥 Nhiệt độ cao nhất: **30.200985°C**\n",
       "- 🧊 Nhiệt độ thấp nhất: **23.183578°C**\n",
       "> **📢 Dự báo:** Hôm nay, trời nắng nóng. Nhiệt độ cao nhất đạt 30.2°C và thấp nhất là 23.2°C. "
      ],
      "text/plain": [
       "<IPython.core.display.Markdown object>"
      ]
     },
     "metadata": {},
     "output_type": "display_data"
    },
    {
     "data": {
      "text/markdown": [
       "### Ngày 11\n",
       "- 🔥 Nhiệt độ cao nhất: **30.709408°C**\n",
       "- 🧊 Nhiệt độ thấp nhất: **23.034147°C**\n",
       "> **📢 Dự báo:** Hôm nay, trời nắng nóng. Nhiệt độ cao nhất đạt 30.7°C và thấp nhất là 23.0°C. "
      ],
      "text/plain": [
       "<IPython.core.display.Markdown object>"
      ]
     },
     "metadata": {},
     "output_type": "display_data"
    },
    {
     "data": {
      "text/markdown": [
       "### Ngày 12\n",
       "- 🔥 Nhiệt độ cao nhất: **31.069023°C**\n",
       "- 🧊 Nhiệt độ thấp nhất: **22.905346°C**\n",
       "> **📢 Dự báo:** Hôm nay, trời nắng nóng. Nhiệt độ cao nhất đạt 31.1°C và thấp nhất là 22.9°C. "
      ],
      "text/plain": [
       "<IPython.core.display.Markdown object>"
      ]
     },
     "metadata": {},
     "output_type": "display_data"
    },
    {
     "data": {
      "text/markdown": [
       "### Ngày 13\n",
       "- 🔥 Nhiệt độ cao nhất: **31.290222°C**\n",
       "- 🧊 Nhiệt độ thấp nhất: **22.787636°C**\n",
       "> **📢 Dự báo:** Hôm nay, trời nắng nóng. Nhiệt độ cao nhất đạt 31.3°C và thấp nhất là 22.8°C. "
      ],
      "text/plain": [
       "<IPython.core.display.Markdown object>"
      ]
     },
     "metadata": {},
     "output_type": "display_data"
    },
    {
     "data": {
      "text/markdown": [
       "### Ngày 14\n",
       "- 🔥 Nhiệt độ cao nhất: **31.399227°C**\n",
       "- 🧊 Nhiệt độ thấp nhất: **22.67921°C**\n",
       "> **📢 Dự báo:** Hôm nay, trời nắng nóng. Nhiệt độ cao nhất đạt 31.4°C và thấp nhất là 22.7°C. "
      ],
      "text/plain": [
       "<IPython.core.display.Markdown object>"
      ]
     },
     "metadata": {},
     "output_type": "display_data"
    },
    {
     "data": {
      "text/markdown": [
       "### Ngày 15\n",
       "- 🔥 Nhiệt độ cao nhất: **31.430029°C**\n",
       "- 🧊 Nhiệt độ thấp nhất: **22.581102°C**\n",
       "> **📢 Dự báo:** Hôm nay, trời nắng nóng. Nhiệt độ cao nhất đạt 31.4°C và thấp nhất là 22.6°C. "
      ],
      "text/plain": [
       "<IPython.core.display.Markdown object>"
      ]
     },
     "metadata": {},
     "output_type": "display_data"
    },
    {
     "data": {
      "text/markdown": [
       "### Ngày 16\n",
       "- 🔥 Nhiệt độ cao nhất: **31.418743°C**\n",
       "- 🧊 Nhiệt độ thấp nhất: **22.49484°C**\n",
       "> **📢 Dự báo:** Hôm nay, trời nắng nóng. Nhiệt độ cao nhất đạt 31.4°C và thấp nhất là 22.5°C. "
      ],
      "text/plain": [
       "<IPython.core.display.Markdown object>"
      ]
     },
     "metadata": {},
     "output_type": "display_data"
    },
    {
     "data": {
      "text/markdown": [
       "### Ngày 17\n",
       "- 🔥 Nhiệt độ cao nhất: **31.394798°C**\n",
       "- 🧊 Nhiệt độ thấp nhất: **22.420542°C**\n",
       "> **📢 Dự báo:** Hôm nay, trời nắng nóng. Nhiệt độ cao nhất đạt 31.4°C và thấp nhất là 22.4°C. "
      ],
      "text/plain": [
       "<IPython.core.display.Markdown object>"
      ]
     },
     "metadata": {},
     "output_type": "display_data"
    },
    {
     "data": {
      "text/markdown": [
       "### Ngày 18\n",
       "- 🔥 Nhiệt độ cao nhất: **31.376312°C**\n",
       "- 🧊 Nhiệt độ thấp nhất: **22.356836°C**\n",
       "> **📢 Dự báo:** Hôm nay, trời nắng nóng. Nhiệt độ cao nhất đạt 31.4°C và thấp nhất là 22.4°C. "
      ],
      "text/plain": [
       "<IPython.core.display.Markdown object>"
      ]
     },
     "metadata": {},
     "output_type": "display_data"
    },
    {
     "data": {
      "text/markdown": [
       "### Ngày 19\n",
       "- 🔥 Nhiệt độ cao nhất: **31.370415°C**\n",
       "- 🧊 Nhiệt độ thấp nhất: **22.301815°C**\n",
       "> **📢 Dự báo:** Hôm nay, trời nắng nóng. Nhiệt độ cao nhất đạt 31.4°C và thấp nhất là 22.3°C. "
      ],
      "text/plain": [
       "<IPython.core.display.Markdown object>"
      ]
     },
     "metadata": {},
     "output_type": "display_data"
    },
    {
     "data": {
      "text/markdown": [
       "### Ngày 20\n",
       "- 🔥 Nhiệt độ cao nhất: **31.376257°C**\n",
       "- 🧊 Nhiệt độ thấp nhất: **22.253819°C**\n",
       "> **📢 Dự báo:** Hôm nay, trời nắng nóng. Nhiệt độ cao nhất đạt 31.4°C và thấp nhất là 22.3°C. "
      ],
      "text/plain": [
       "<IPython.core.display.Markdown object>"
      ]
     },
     "metadata": {},
     "output_type": "display_data"
    },
    {
     "data": {
      "text/markdown": [
       "### Ngày 21\n",
       "- 🔥 Nhiệt độ cao nhất: **31.389254°C**\n",
       "- 🧊 Nhiệt độ thấp nhất: **22.211658°C**\n",
       "> **📢 Dự báo:** Hôm nay, trời nắng nóng. Nhiệt độ cao nhất đạt 31.4°C và thấp nhất là 22.2°C. "
      ],
      "text/plain": [
       "<IPython.core.display.Markdown object>"
      ]
     },
     "metadata": {},
     "output_type": "display_data"
    },
    {
     "data": {
      "text/markdown": [
       "### Ngày 22\n",
       "- 🔥 Nhiệt độ cao nhất: **31.404354°C**\n",
       "- 🧊 Nhiệt độ thấp nhất: **22.17455°C**\n",
       "> **📢 Dự báo:** Hôm nay, trời nắng nóng. Nhiệt độ cao nhất đạt 31.4°C và thấp nhất là 22.2°C. "
      ],
      "text/plain": [
       "<IPython.core.display.Markdown object>"
      ]
     },
     "metadata": {},
     "output_type": "display_data"
    },
    {
     "data": {
      "text/markdown": [
       "### Ngày 23\n",
       "- 🔥 Nhiệt độ cao nhất: **31.417723°C**\n",
       "- 🧊 Nhiệt độ thấp nhất: **22.141937°C**\n",
       "> **📢 Dự báo:** Hôm nay, trời nắng nóng. Nhiệt độ cao nhất đạt 31.4°C và thấp nhất là 22.1°C. "
      ],
      "text/plain": [
       "<IPython.core.display.Markdown object>"
      ]
     },
     "metadata": {},
     "output_type": "display_data"
    },
    {
     "data": {
      "text/markdown": [
       "### Ngày 24\n",
       "- 🔥 Nhiệt độ cao nhất: **31.427307°C**\n",
       "- 🧊 Nhiệt độ thấp nhất: **22.11336°C**\n",
       "> **📢 Dự báo:** Hôm nay, trời nắng nóng. Nhiệt độ cao nhất đạt 31.4°C và thấp nhất là 22.1°C. "
      ],
      "text/plain": [
       "<IPython.core.display.Markdown object>"
      ]
     },
     "metadata": {},
     "output_type": "display_data"
    },
    {
     "data": {
      "text/markdown": [
       "### Ngày 25\n",
       "- 🔥 Nhiệt độ cao nhất: **31.432695°C**\n",
       "- 🧊 Nhiệt độ thấp nhất: **22.08836°C**\n",
       "> **📢 Dự báo:** Hôm nay, trời nắng nóng. Nhiệt độ cao nhất đạt 31.4°C và thấp nhất là 22.1°C. "
      ],
      "text/plain": [
       "<IPython.core.display.Markdown object>"
      ]
     },
     "metadata": {},
     "output_type": "display_data"
    },
    {
     "data": {
      "text/markdown": [
       "### Ngày 26\n",
       "- 🔥 Nhiệt độ cao nhất: **31.434593°C**\n",
       "- 🧊 Nhiệt độ thấp nhất: **22.0665°C**\n",
       "> **📢 Dự báo:** Hôm nay, trời nắng nóng. Nhiệt độ cao nhất đạt 31.4°C và thấp nhất là 22.1°C. "
      ],
      "text/plain": [
       "<IPython.core.display.Markdown object>"
      ]
     },
     "metadata": {},
     "output_type": "display_data"
    },
    {
     "data": {
      "text/markdown": [
       "### Ngày 27\n",
       "- 🔥 Nhiệt độ cao nhất: **31.43422°C**\n",
       "- 🧊 Nhiệt độ thấp nhất: **22.047367°C**\n",
       "> **📢 Dự báo:** Hôm nay, trời nắng nóng. Nhiệt độ cao nhất đạt 31.4°C và thấp nhất là 22.0°C. "
      ],
      "text/plain": [
       "<IPython.core.display.Markdown object>"
      ]
     },
     "metadata": {},
     "output_type": "display_data"
    },
    {
     "data": {
      "text/markdown": [
       "### Ngày 28\n",
       "- 🔥 Nhiệt độ cao nhất: **31.432802°C**\n",
       "- 🧊 Nhiệt độ thấp nhất: **22.030611°C**\n",
       "> **📢 Dự báo:** Hôm nay, trời nắng nóng. Nhiệt độ cao nhất đạt 31.4°C và thấp nhất là 22.0°C. "
      ],
      "text/plain": [
       "<IPython.core.display.Markdown object>"
      ]
     },
     "metadata": {},
     "output_type": "display_data"
    },
    {
     "data": {
      "text/markdown": [
       "### Ngày 29\n",
       "- 🔥 Nhiệt độ cao nhất: **31.431273°C**\n",
       "- 🧊 Nhiệt độ thấp nhất: **22.015928°C**\n",
       "> **📢 Dự báo:** Hôm nay, trời nắng nóng. Nhiệt độ cao nhất đạt 31.4°C và thấp nhất là 22.0°C. "
      ],
      "text/plain": [
       "<IPython.core.display.Markdown object>"
      ]
     },
     "metadata": {},
     "output_type": "display_data"
    },
    {
     "data": {
      "text/markdown": [
       "### Ngày 30\n",
       "- 🔥 Nhiệt độ cao nhất: **31.43015°C**\n",
       "- 🧊 Nhiệt độ thấp nhất: **22.003048°C**\n",
       "> **📢 Dự báo:** Hôm nay, trời nắng nóng. Nhiệt độ cao nhất đạt 31.4°C và thấp nhất là 22.0°C. "
      ],
      "text/plain": [
       "<IPython.core.display.Markdown object>"
      ]
     },
     "metadata": {},
     "output_type": "display_data"
    }
   ],
   "source": [
    "from IPython.display import Markdown\n",
    "\n",
    "for idx, row in df_forecast.iterrows():\n",
    "    display(Markdown(\n",
    "        f\"### Ngày {idx+1}\\n\"\n",
    "        f\"- 🔥 Nhiệt độ cao nhất: **{row['max_temp']}°C**\\n\"\n",
    "        f\"- 🧊 Nhiệt độ thấp nhất: **{row['min_temp']}°C**\\n\"\n",
    "        f\"> **📢 Dự báo:** {row['description']}\"\n",
    "    ))"
   ]
  },
  {
   "cell_type": "code",
   "execution_count": 38,
   "metadata": {
    "colab": {
     "base_uri": "https://localhost:8080/",
     "height": 489
    },
    "executionInfo": {
     "elapsed": 177,
     "status": "ok",
     "timestamp": 1750514147895,
     "user": {
      "displayName": "Phúc Phạm Hoàng",
      "userId": "00710290091674730627"
     },
     "user_tz": -420
    },
    "id": "rWlCIhILWtZd",
    "outputId": "79c8ca94-7bdb-464f-b51a-3498aff8c85c"
   },
   "outputs": [
    {
     "data": {
      "image/png": "[encoded data removed]",
      "text/plain": [
       "<Figure size 900x500 with 1 Axes>"
      ]
     },
     "metadata": {},
     "output_type": "display_data"
    }
   ],
   "source": [
    "plt.figure(figsize=(9, 5))\n",
    "plt.plot(df_forecast['max_temp'], label='Nhiệt độ cao nhất', marker='o')\n",
    "plt.plot(df_forecast['min_temp'], label='Nhiệt độ thấp nhất', marker='o')\n",
    "plt.title('Biểu đồ nhiệt độ dự đoán')\n",
    "plt.xlabel('Ngày')\n",
    "plt.ylabel('Nhiệt độ (°C)')\n",
    "plt.legend()\n",
    "plt.grid(True)\n",
    "plt.show()"
   ]
  },
  {
   "cell_type": "code",
   "execution_count": 34,
   "metadata": {
    "executionInfo": {
     "elapsed": 2,
     "status": "ok",
     "timestamp": 1750514078481,
     "user": {
      "displayName": "Phúc Phạm Hoàng",
      "userId": "00710290091674730627"
     },
     "user_tz": -420
    },
    "id": "3ZPkwZYrbpFo"
   },
   "outputs": [],
   "source": [
    "import pandas as pd\n",
    "from IPython.display import HTML, display"
   ]
  },
  {
   "cell_type": "code",
   "execution_count": null,
   "metadata": {
    "executionInfo": {
     "elapsed": 2,
     "status": "ok",
     "timestamp": 1750514078484,
     "user": {
      "displayName": "Phúc Phạm Hoàng",
      "userId": "00710290091674730627"
     },
     "user_tz": -420
    },
    "id": "uhHAdPZibKWI"
   },
   "outputs": [],
   "source": [
    "def gen_card(day, max_temp, min_temp, description):\n",
    "\n",
    "    if max_temp >= 30:\n",
    "        background = \"url('https://i.imgur.com/pnNc45F.jpeg')\"  \n",
    "        icon = \"☀️\"\n",
    "    else:\n",
    "        background = \"url('https://i.imgur.com/37geXlf.jpeg')\"  \n",
    "        icon = \"☁️\"\n",
    "\n",
    "    card_html = f\"\"\"\n",
    "    <div class=\"weather-card\" style=\"background-image: {background};\">\n",
    "      <div class=\"weather-overlay\">\n",
    "        <h2>Ngày {day}</h2>\n",
    "        <p style=\"font-size: 1.2em;\">{icon} {description}</p>\n",
    "        <p>Max: {max_temp:.1f}°C, Min: {min_temp:.1f}°C</p>\n",
    "      </div>\n",
    "    </div>\n",
    "    \"\"\"\n",
    "    return card_html\n",
    "\n",
    "html_cards = \"\"\n",
    "for idx, row in df_forecast.iterrows():\n",
    "    html_cards += gen_card(idx+1, row['max_temp'], row['min_temp'], row['description'])"
   ]
  },
  {
   "cell_type": "code",
   "execution_count": 36,
   "metadata": {
    "executionInfo": {
     "elapsed": 1,
     "status": "ok",
     "timestamp": 1750514078486,
     "user": {
      "displayName": "Phúc Phạm Hoàng",
      "userId": "00710290091674730627"
     },
     "user_tz": -420
    },
    "id": "8ODNTSq3bdtH"
   },
   "outputs": [],
   "source": [
    "style = \"\"\"\n",
    "<style>\n",
    ".weather-card {\n",
    "  position: relative;\n",
    "  width: 300px;\n",
    "  height: 200px;\n",
    "  margin: 10px;\n",
    "  background-size: cover;\n",
    "  background-position: center;\n",
    "  border-radius: 10px;\n",
    "  display: inline-block;\n",
    "  box-shadow: 0 4px 6px rgba(0, 0, 0, 0.3);\n",
    "  overflow: hidden;\n",
    "  animation: float 3s ease-in-out infinite;\n",
    "  font-family: 'DejaVu Sans', sans-serif;   /* Đảm bảo font hỗ trợ Unicode */\n",
    "}\n",
    ".weather-overlay {\n",
    "  position: absolute;\n",
    "  bottom: 0;\n",
    "  background: rgba(0, 0, 0, 0.4);\n",
    "  color: white;\n",
    "  width: 100%;\n",
    "  padding: 10px;\n",
    "  box-sizing: border-box;\n",
    "  font-family: 'DejaVu Sans', sans-serif;\n",
    "}\n",
    "@keyframes float {\n",
    "  0% { transform: translateY(0px); }\n",
    "  50% { transform: translateY(-10px); }\n",
    "  100% { transform: translateY(0px); }\n",
    "}\n",
    "</style>\n",
    "\"\"\""
   ]
  },
  {
   "cell_type": "code",
   "execution_count": 37,
   "metadata": {
    "colab": {
     "base_uri": "https://localhost:8080/",
     "height": 1000
    },
    "executionInfo": {
     "elapsed": 5,
     "status": "ok",
     "timestamp": 1750514078492,
     "user": {
      "displayName": "Phúc Phạm Hoàng",
      "userId": "00710290091674730627"
     },
     "user_tz": -420
    },
    "id": "pkXWuDAUjH4e",
    "outputId": "bef84004-54df-4f00-9a99-4eafc95e9609"
   },
   "outputs": [
    {
     "data": {
      "text/html": [
       "\n",
       "<!DOCTYPE html>\n",
       "<html>\n",
       "<head>\n",
       "  <meta charset=\"utf-8\">\n",
       "  \n",
       "<style>\n",
       ".weather-card {\n",
       "  position: relative;\n",
       "  width: 300px;\n",
       "  height: 200px;\n",
       "  margin: 10px;\n",
       "  background-size: cover;\n",
       "  background-position: center;\n",
       "  border-radius: 10px;\n",
       "  display: inline-block;\n",
       "  box-shadow: 0 4px 6px rgba(0, 0, 0, 0.3);\n",
       "  overflow: hidden;\n",
       "  animation: float 3s ease-in-out infinite;\n",
       "  font-family: 'DejaVu Sans', sans-serif;   /* Đảm bảo font hỗ trợ Unicode */\n",
       "}\n",
       ".weather-overlay {\n",
       "  position: absolute;\n",
       "  bottom: 0;\n",
       "  background: rgba(0, 0, 0, 0.4);\n",
       "  color: white;\n",
       "  width: 100%;\n",
       "  padding: 10px;\n",
       "  box-sizing: border-box;\n",
       "  font-family: 'DejaVu Sans', sans-serif;\n",
       "}\n",
       "@keyframes float {\n",
       "  0% { transform: translateY(0px); }\n",
       "  50% { transform: translateY(-10px); }\n",
       "  100% { transform: translateY(0px); }\n",
       "}\n",
       "</style>\n",
       "\n",
       "</head>\n",
       "<body>\n",
       "  <div>\n",
       "    <div class=\"weather-card\" style=\"background-image: url('https://i.imgur.com/pnNc45F.jpeg');\">\n",
       "      <div class=\"weather-overlay\">\n",
       "        <h2>Ngày 1</h2>\n",
       "        <p style=\"font-size: 1.2em;\">☀️ Hôm nay, trời nắng nóng. Nhiệt độ cao nhất đạt 30.3°C và thấp nhất là 25.1°C. </p>\n",
       "        <p>Max: 30.3°C, Min: 25.1°C</p>\n",
       "      </div>\n",
       "    </div>\n",
       "    \n",
       "    <div class=\"weather-card\" style=\"background-image: url('https://i.imgur.com/37geXlf.jpeg');\">\n",
       "      <div class=\"weather-overlay\">\n",
       "        <h2>Ngày 2</h2>\n",
       "        <p style=\"font-size: 1.2em;\">☁️ Hôm nay, trời quang đãng. Nhiệt độ cao nhất đạt 26.6°C và thấp nhất là 24.9°C. </p>\n",
       "        <p>Max: 26.6°C, Min: 24.9°C</p>\n",
       "      </div>\n",
       "    </div>\n",
       "    \n",
       "    <div class=\"weather-card\" style=\"background-image: url('https://i.imgur.com/37geXlf.jpeg');\">\n",
       "      <div class=\"weather-overlay\">\n",
       "        <h2>Ngày 3</h2>\n",
       "        <p style=\"font-size: 1.2em;\">☁️ Hôm nay, trời quang đãng. Nhiệt độ cao nhất đạt 26.8°C và thấp nhất là 25.0°C. </p>\n",
       "        <p>Max: 26.8°C, Min: 25.0°C</p>\n",
       "      </div>\n",
       "    </div>\n",
       "    \n",
       "    <div class=\"weather-card\" style=\"background-image: url('https://i.imgur.com/37geXlf.jpeg');\">\n",
       "      <div class=\"weather-overlay\">\n",
       "        <h2>Ngày 4</h2>\n",
       "        <p style=\"font-size: 1.2em;\">☁️ Hôm nay, trời quang đãng. Nhiệt độ cao nhất đạt 27.6°C và thấp nhất là 24.9°C. </p>\n",
       "        <p>Max: 27.6°C, Min: 24.9°C</p>\n",
       "      </div>\n",
       "    </div>\n",
       "    \n",
       "    <div class=\"weather-card\" style=\"background-image: url('https://i.imgur.com/37geXlf.jpeg');\">\n",
       "      <div class=\"weather-overlay\">\n",
       "        <h2>Ngày 5</h2>\n",
       "        <p style=\"font-size: 1.2em;\">☁️ Hôm nay, trời quang đãng. Nhiệt độ cao nhất đạt 28.0°C và thấp nhất là 24.7°C. </p>\n",
       "        <p>Max: 28.0°C, Min: 24.7°C</p>\n",
       "      </div>\n",
       "    </div>\n",
       "    \n",
       "    <div class=\"weather-card\" style=\"background-image: url('https://i.imgur.com/37geXlf.jpeg');\">\n",
       "      <div class=\"weather-overlay\">\n",
       "        <h2>Ngày 6</h2>\n",
       "        <p style=\"font-size: 1.2em;\">☁️ Hôm nay, trời quang đãng. Nhiệt độ cao nhất đạt 28.4°C và thấp nhất là 24.3°C. </p>\n",
       "        <p>Max: 28.4°C, Min: 24.3°C</p>\n",
       "      </div>\n",
       "    </div>\n",
       "    \n",
       "    <div class=\"weather-card\" style=\"background-image: url('https://i.imgur.com/37geXlf.jpeg');\">\n",
       "      <div class=\"weather-overlay\">\n",
       "        <h2>Ngày 7</h2>\n",
       "        <p style=\"font-size: 1.2em;\">☁️ Hôm nay, trời quang đãng. Nhiệt độ cao nhất đạt 28.7°C và thấp nhất là 24.0°C. </p>\n",
       "        <p>Max: 28.7°C, Min: 24.0°C</p>\n",
       "      </div>\n",
       "    </div>\n",
       "    \n",
       "    <div class=\"weather-card\" style=\"background-image: url('https://i.imgur.com/37geXlf.jpeg');\">\n",
       "      <div class=\"weather-overlay\">\n",
       "        <h2>Ngày 8</h2>\n",
       "        <p style=\"font-size: 1.2em;\">☁️ Hôm nay, trời quang đãng. Nhiệt độ cao nhất đạt 29.1°C và thấp nhất là 23.6°C. </p>\n",
       "        <p>Max: 29.1°C, Min: 23.6°C</p>\n",
       "      </div>\n",
       "    </div>\n",
       "    \n",
       "    <div class=\"weather-card\" style=\"background-image: url('https://i.imgur.com/37geXlf.jpeg');\">\n",
       "      <div class=\"weather-overlay\">\n",
       "        <h2>Ngày 9</h2>\n",
       "        <p style=\"font-size: 1.2em;\">☁️ Hôm nay, trời quang đãng. Nhiệt độ cao nhất đạt 29.6°C và thấp nhất là 23.4°C. </p>\n",
       "        <p>Max: 29.6°C, Min: 23.4°C</p>\n",
       "      </div>\n",
       "    </div>\n",
       "    \n",
       "    <div class=\"weather-card\" style=\"background-image: url('https://i.imgur.com/pnNc45F.jpeg');\">\n",
       "      <div class=\"weather-overlay\">\n",
       "        <h2>Ngày 10</h2>\n",
       "        <p style=\"font-size: 1.2em;\">☀️ Hôm nay, trời nắng nóng. Nhiệt độ cao nhất đạt 30.2°C và thấp nhất là 23.2°C. </p>\n",
       "        <p>Max: 30.2°C, Min: 23.2°C</p>\n",
       "      </div>\n",
       "    </div>\n",
       "    \n",
       "    <div class=\"weather-card\" style=\"background-image: url('https://i.imgur.com/pnNc45F.jpeg');\">\n",
       "      <div class=\"weather-overlay\">\n",
       "        <h2>Ngày 11</h2>\n",
       "        <p style=\"font-size: 1.2em;\">☀️ Hôm nay, trời nắng nóng. Nhiệt độ cao nhất đạt 30.7°C và thấp nhất là 23.0°C. </p>\n",
       "        <p>Max: 30.7°C, Min: 23.0°C</p>\n",
       "      </div>\n",
       "    </div>\n",
       "    \n",
       "    <div class=\"weather-card\" style=\"background-image: url('https://i.imgur.com/pnNc45F.jpeg');\">\n",
       "      <div class=\"weather-overlay\">\n",
       "        <h2>Ngày 12</h2>\n",
       "        <p style=\"font-size: 1.2em;\">☀️ Hôm nay, trời nắng nóng. Nhiệt độ cao nhất đạt 31.1°C và thấp nhất là 22.9°C. </p>\n",
       "        <p>Max: 31.1°C, Min: 22.9°C</p>\n",
       "      </div>\n",
       "    </div>\n",
       "    \n",
       "    <div class=\"weather-card\" style=\"background-image: url('https://i.imgur.com/pnNc45F.jpeg');\">\n",
       "      <div class=\"weather-overlay\">\n",
       "        <h2>Ngày 13</h2>\n",
       "        <p style=\"font-size: 1.2em;\">☀️ Hôm nay, trời nắng nóng. Nhiệt độ cao nhất đạt 31.3°C và thấp nhất là 22.8°C. </p>\n",
       "        <p>Max: 31.3°C, Min: 22.8°C</p>\n",
       "      </div>\n",
       "    </div>\n",
       "    \n",
       "    <div class=\"weather-card\" style=\"background-image: url('https://i.imgur.com/pnNc45F.jpeg');\">\n",
       "      <div class=\"weather-overlay\">\n",
       "        <h2>Ngày 14</h2>\n",
       "        <p style=\"font-size: 1.2em;\">☀️ Hôm nay, trời nắng nóng. Nhiệt độ cao nhất đạt 31.4°C và thấp nhất là 22.7°C. </p>\n",
       "        <p>Max: 31.4°C, Min: 22.7°C</p>\n",
       "      </div>\n",
       "    </div>\n",
       "    \n",
       "    <div class=\"weather-card\" style=\"background-image: url('https://i.imgur.com/pnNc45F.jpeg');\">\n",
       "      <div class=\"weather-overlay\">\n",
       "        <h2>Ngày 15</h2>\n",
       "        <p style=\"font-size: 1.2em;\">☀️ Hôm nay, trời nắng nóng. Nhiệt độ cao nhất đạt 31.4°C và thấp nhất là 22.6°C. </p>\n",
       "        <p>Max: 31.4°C, Min: 22.6°C</p>\n",
       "      </div>\n",
       "    </div>\n",
       "    \n",
       "    <div class=\"weather-card\" style=\"background-image: url('https://i.imgur.com/pnNc45F.jpeg');\">\n",
       "      <div class=\"weather-overlay\">\n",
       "        <h2>Ngày 16</h2>\n",
       "        <p style=\"font-size: 1.2em;\">☀️ Hôm nay, trời nắng nóng. Nhiệt độ cao nhất đạt 31.4°C và thấp nhất là 22.5°C. </p>\n",
       "        <p>Max: 31.4°C, Min: 22.5°C</p>\n",
       "      </div>\n",
       "    </div>\n",
       "    \n",
       "    <div class=\"weather-card\" style=\"background-image: url('https://i.imgur.com/pnNc45F.jpeg');\">\n",
       "      <div class=\"weather-overlay\">\n",
       "        <h2>Ngày 17</h2>\n",
       "        <p style=\"font-size: 1.2em;\">☀️ Hôm nay, trời nắng nóng. Nhiệt độ cao nhất đạt 31.4°C và thấp nhất là 22.4°C. </p>\n",
       "        <p>Max: 31.4°C, Min: 22.4°C</p>\n",
       "      </div>\n",
       "    </div>\n",
       "    \n",
       "    <div class=\"weather-card\" style=\"background-image: url('https://i.imgur.com/pnNc45F.jpeg');\">\n",
       "      <div class=\"weather-overlay\">\n",
       "        <h2>Ngày 18</h2>\n",
       "        <p style=\"font-size: 1.2em;\">☀️ Hôm nay, trời nắng nóng. Nhiệt độ cao nhất đạt 31.4°C và thấp nhất là 22.4°C. </p>\n",
       "        <p>Max: 31.4°C, Min: 22.4°C</p>\n",
       "      </div>\n",
       "    </div>\n",
       "    \n",
       "    <div class=\"weather-card\" style=\"background-image: url('https://i.imgur.com/pnNc45F.jpeg');\">\n",
       "      <div class=\"weather-overlay\">\n",
       "        <h2>Ngày 19</h2>\n",
       "        <p style=\"font-size: 1.2em;\">☀️ Hôm nay, trời nắng nóng. Nhiệt độ cao nhất đạt 31.4°C và thấp nhất là 22.3°C. </p>\n",
       "        <p>Max: 31.4°C, Min: 22.3°C</p>\n",
       "      </div>\n",
       "    </div>\n",
       "    \n",
       "    <div class=\"weather-card\" style=\"background-image: url('https://i.imgur.com/pnNc45F.jpeg');\">\n",
       "      <div class=\"weather-overlay\">\n",
       "        <h2>Ngày 20</h2>\n",
       "        <p style=\"font-size: 1.2em;\">☀️ Hôm nay, trời nắng nóng. Nhiệt độ cao nhất đạt 31.4°C và thấp nhất là 22.3°C. </p>\n",
       "        <p>Max: 31.4°C, Min: 22.3°C</p>\n",
       "      </div>\n",
       "    </div>\n",
       "    \n",
       "    <div class=\"weather-card\" style=\"background-image: url('https://i.imgur.com/pnNc45F.jpeg');\">\n",
       "      <div class=\"weather-overlay\">\n",
       "        <h2>Ngày 21</h2>\n",
       "        <p style=\"font-size: 1.2em;\">☀️ Hôm nay, trời nắng nóng. Nhiệt độ cao nhất đạt 31.4°C và thấp nhất là 22.2°C. </p>\n",
       "        <p>Max: 31.4°C, Min: 22.2°C</p>\n",
       "      </div>\n",
       "    </div>\n",
       "    \n",
       "    <div class=\"weather-card\" style=\"background-image: url('https://i.imgur.com/pnNc45F.jpeg');\">\n",
       "      <div class=\"weather-overlay\">\n",
       "        <h2>Ngày 22</h2>\n",
       "        <p style=\"font-size: 1.2em;\">☀️ Hôm nay, trời nắng nóng. Nhiệt độ cao nhất đạt 31.4°C và thấp nhất là 22.2°C. </p>\n",
       "        <p>Max: 31.4°C, Min: 22.2°C</p>\n",
       "      </div>\n",
       "    </div>\n",
       "    \n",
       "    <div class=\"weather-card\" style=\"background-image: url('https://i.imgur.com/pnNc45F.jpeg');\">\n",
       "      <div class=\"weather-overlay\">\n",
       "        <h2>Ngày 23</h2>\n",
       "        <p style=\"font-size: 1.2em;\">☀️ Hôm nay, trời nắng nóng. Nhiệt độ cao nhất đạt 31.4°C và thấp nhất là 22.1°C. </p>\n",
       "        <p>Max: 31.4°C, Min: 22.1°C</p>\n",
       "      </div>\n",
       "    </div>\n",
       "    \n",
       "    <div class=\"weather-card\" style=\"background-image: url('https://i.imgur.com/pnNc45F.jpeg');\">\n",
       "      <div class=\"weather-overlay\">\n",
       "        <h2>Ngày 24</h2>\n",
       "        <p style=\"font-size: 1.2em;\">☀️ Hôm nay, trời nắng nóng. Nhiệt độ cao nhất đạt 31.4°C và thấp nhất là 22.1°C. </p>\n",
       "        <p>Max: 31.4°C, Min: 22.1°C</p>\n",
       "      </div>\n",
       "    </div>\n",
       "    \n",
       "    <div class=\"weather-card\" style=\"background-image: url('https://i.imgur.com/pnNc45F.jpeg');\">\n",
       "      <div class=\"weather-overlay\">\n",
       "        <h2>Ngày 25</h2>\n",
       "        <p style=\"font-size: 1.2em;\">☀️ Hôm nay, trời nắng nóng. Nhiệt độ cao nhất đạt 31.4°C và thấp nhất là 22.1°C. </p>\n",
       "        <p>Max: 31.4°C, Min: 22.1°C</p>\n",
       "      </div>\n",
       "    </div>\n",
       "    \n",
       "    <div class=\"weather-card\" style=\"background-image: url('https://i.imgur.com/pnNc45F.jpeg');\">\n",
       "      <div class=\"weather-overlay\">\n",
       "        <h2>Ngày 26</h2>\n",
       "        <p style=\"font-size: 1.2em;\">☀️ Hôm nay, trời nắng nóng. Nhiệt độ cao nhất đạt 31.4°C và thấp nhất là 22.1°C. </p>\n",
       "        <p>Max: 31.4°C, Min: 22.1°C</p>\n",
       "      </div>\n",
       "    </div>\n",
       "    \n",
       "    <div class=\"weather-card\" style=\"background-image: url('https://i.imgur.com/pnNc45F.jpeg');\">\n",
       "      <div class=\"weather-overlay\">\n",
       "        <h2>Ngày 27</h2>\n",
       "        <p style=\"font-size: 1.2em;\">☀️ Hôm nay, trời nắng nóng. Nhiệt độ cao nhất đạt 31.4°C và thấp nhất là 22.0°C. </p>\n",
       "        <p>Max: 31.4°C, Min: 22.0°C</p>\n",
       "      </div>\n",
       "    </div>\n",
       "    \n",
       "    <div class=\"weather-card\" style=\"background-image: url('https://i.imgur.com/pnNc45F.jpeg');\">\n",
       "      <div class=\"weather-overlay\">\n",
       "        <h2>Ngày 28</h2>\n",
       "        <p style=\"font-size: 1.2em;\">☀️ Hôm nay, trời nắng nóng. Nhiệt độ cao nhất đạt 31.4°C và thấp nhất là 22.0°C. </p>\n",
       "        <p>Max: 31.4°C, Min: 22.0°C</p>\n",
       "      </div>\n",
       "    </div>\n",
       "    \n",
       "    <div class=\"weather-card\" style=\"background-image: url('https://i.imgur.com/pnNc45F.jpeg');\">\n",
       "      <div class=\"weather-overlay\">\n",
       "        <h2>Ngày 29</h2>\n",
       "        <p style=\"font-size: 1.2em;\">☀️ Hôm nay, trời nắng nóng. Nhiệt độ cao nhất đạt 31.4°C và thấp nhất là 22.0°C. </p>\n",
       "        <p>Max: 31.4°C, Min: 22.0°C</p>\n",
       "      </div>\n",
       "    </div>\n",
       "    \n",
       "    <div class=\"weather-card\" style=\"background-image: url('https://i.imgur.com/pnNc45F.jpeg');\">\n",
       "      <div class=\"weather-overlay\">\n",
       "        <h2>Ngày 30</h2>\n",
       "        <p style=\"font-size: 1.2em;\">☀️ Hôm nay, trời nắng nóng. Nhiệt độ cao nhất đạt 31.4°C và thấp nhất là 22.0°C. </p>\n",
       "        <p>Max: 31.4°C, Min: 22.0°C</p>\n",
       "      </div>\n",
       "    </div>\n",
       "    </div>\n",
       "</body>\n",
       "</html>\n"
      ],
      "text/plain": [
       "<IPython.core.display.HTML object>"
      ]
     },
     "metadata": {},
     "output_type": "display_data"
    }
   ],
   "source": [
    "html_output = f\"\"\"\n",
    "<!DOCTYPE html>\n",
    "<html>\n",
    "<head>\n",
    "  <meta charset=\"utf-8\">\n",
    "  {style}\n",
    "</head>\n",
    "<body>\n",
    "  <div>{html_cards}</div>\n",
    "</body>\n",
    "</html>\n",
    "\"\"\"\n",
    "\n",
    "from IPython.display import HTML, display\n",
    "display(HTML(html_output))"
   ]
  }
 ],
 "metadata": {
  "colab": {
   "authorship_tag": "ABX9TyMLx7mFvG54l9HpQ/xbZRBc",
   "mount_file_id": "15ytonHx0q2zcW4OGId0AeugAuvMFo1y1",
   "provenance": [
    {
     "file_id": "1-fvYGq-b3Dq8Nnh5a3d3GixHSP3EwseG",
     "timestamp": 1750322791064
    }
   ]
  },
  "kernelspec": {
   "display_name": "Python 3",
   "name": "python3"
  },
  "language_info": {
   "name": "python"
  }
 },
 "nbformat": 4,
 "nbformat_minor": 0
}
